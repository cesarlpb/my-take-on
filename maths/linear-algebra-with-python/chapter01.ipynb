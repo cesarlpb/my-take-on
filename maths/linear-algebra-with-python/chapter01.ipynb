{
 "cells": [
  {
   "cell_type": "markdown",
   "id": "a7def3fb",
   "metadata": {},
   "source": [
    "\n",
    "# Linear Algebra with Python — Chapter 1: Introduction to Linear Algebra\n",
    "\n",
    "**Focus:** practical NumPy code + minimal math exposition.  \n",
    "**Libraries:** `numpy`, `matplotlib` (for simple visuals).\n",
    "\n",
    "> Tip: run cells top-to-bottom. Use this notebook as a cheatsheet + playground.\n",
    "\n",
    "---\n",
    "\n",
    "- **Linear Algebra** := Linear algebra is the branch of mathematics concerning linear equations, linear maps, and their representations in vector spaces and through matrices.\n",
    "- **Python** := Python is a high-level, general-purpose programming language. Its design philosophy emphasizes code readability with the use of significant indentation.\n",
    "\n",
    "More info:\n",
    "\n",
    "- [Linea Algebra](https://en.wikipedia.org/wiki/Linear_algebra)\n",
    "- [Python](https://en.wikipedia.org/wiki/Python_(programming_language))"
   ]
  },
  {
   "cell_type": "markdown",
   "id": "eb9eb5eb",
   "metadata": {},
   "source": [
    "## Getting started\n",
    "\n",
    "Some knowledge of Python is required.\n",
    "\n",
    "```bash\n",
    "uv init .\n",
    "uv sync\n",
    "# Select Kernel -> Run cells\n",
    "```"
   ]
  },
  {
   "cell_type": "markdown",
   "id": "9a58d230",
   "metadata": {},
   "source": [
    "## Importing Libraries"
   ]
  },
  {
   "cell_type": "code",
   "execution_count": 109,
   "id": "29376842",
   "metadata": {},
   "outputs": [
    {
     "name": "stdout",
     "output_type": "stream",
     "text": [
      "NumPy: 2.3.3\n",
      "Matplotlib: 3.10.6\n"
     ]
    }
   ],
   "source": [
    "# Lazy import example with try / except:\n",
    "try:\n",
    "    import numpy as np\n",
    "    import matplotlib\n",
    "    import matplotlib.pyplot as plt\n",
    "    # import seaborn as sns  # uncomment to trigger error\n",
    "\n",
    "    np.set_printoptions(suppress=True, linewidth=120)\n",
    "    print(\"NumPy:\", np.__version__)\n",
    "    print(\"Matplotlib:\", matplotlib.__version__)\n",
    "    # print(\"Seaborn:\", sns.__version__) # uncomment to trigger error\n",
    "except ModuleNotFoundError as e:\n",
    "    print(\"Module not found:\", e)\n"
   ]
  },
  {
   "cell_type": "code",
   "execution_count": 110,
   "id": "cd13a744",
   "metadata": {},
   "outputs": [
    {
     "name": "stdout",
     "output_type": "stream",
     "text": [
      "Seaborn: not installed\n"
     ]
    }
   ],
   "source": [
    "# Note: to apply 'safe import' we can use this approach:\n",
    "import importlib\n",
    "\n",
    "def safe_import(name):\n",
    "    try:\n",
    "        return importlib.import_module(name)\n",
    "    except ModuleNotFoundError:\n",
    "        return None\n",
    "    \n",
    "sns = safe_import(\"seaborn\")\n",
    "print(\"Seaborn:\",    getattr(sns, \"__version__\", \"not installed\"))"
   ]
  },
  {
   "cell_type": "markdown",
   "id": "e2cca9e4",
   "metadata": {},
   "source": [
    "\n",
    "## Motivations\n",
    "\n",
    "- Vectors and matrices are the native language of many data problems: embeddings, PCA, least squares, neural nets, graphics.  \n",
    "- This chapter builds a compact toolbox you’ll reuse everywhere.\n",
    "\n",
    "### Why Use Python?\n",
    "\n",
    "Python is a versatile language suitable for machine learning, data science and protoyping features with state of the art tools.\n"
   ]
  },
  {
   "cell_type": "markdown",
   "id": "98289f4c",
   "metadata": {},
   "source": [
    "## Creating Vectors in Python\n",
    "\n",
    "- **Vector**:\n",
    "    - **Mathematics:** an element in a vector space which has magnitude and direction in Euclidean spaces. In general, a vector can be added and scaled.\n",
    "    - **Programming:** usually a data structure that stores and ordered collection of elements in memory. Usual operations are: push or append, pop or remove, map, etc.\n",
    "\n",
    "**Note:** a vector in Mathematics has a different meaning than its counterpart in Programming, however, the concepts are closely related when using numerical libraries such as numpy."
   ]
  },
  {
   "cell_type": "code",
   "execution_count": 111,
   "id": "7f35c5f2",
   "metadata": {},
   "outputs": [
    {
     "name": "stdout",
     "output_type": "stream",
     "text": [
      "v_row:\n",
      " [1. 2. 3.]\n",
      "\n",
      "shape: (3,), size: 3, type: <class 'numpy.ndarray'>"
     ]
    }
   ],
   "source": [
    "\n",
    "# 1D vector (row-like) — shape: (n,)\n",
    "v_row = np.array([1., 2., 3.])\n",
    "print(\"v_row:\\n\", v_row)\n",
    "print(\"\\nshape:\", v_row.shape, end=\", \")\n",
    "print(\"size:\", v_row.size, end=\", \")\n",
    "print(\"type:\", type(v_row), end=\"\")"
   ]
  },
  {
   "cell_type": "code",
   "execution_count": 112,
   "id": "e34b2a78",
   "metadata": {},
   "outputs": [
    {
     "name": "stdout",
     "output_type": "stream",
     "text": [
      "v_col:\n",
      " [[1.]\n",
      " [2.]\n",
      " [3.]]\n",
      "\n",
      "shape: (3, 1), size: 3, type: <class 'numpy.ndarray'>"
     ]
    }
   ],
   "source": [
    "# Column vector — shape: (n, 1)\n",
    "v_col = v_row.reshape(-1, 1)\n",
    "print(\"v_col:\\n\", v_col)\n",
    "print(\"\\nshape:\", v_col.shape, end=\", \")\n",
    "print(\"size:\", v_col.size, end=\", \")\n",
    "print(\"type:\", type(v_col), end=\"\")"
   ]
  },
  {
   "cell_type": "markdown",
   "id": "ecbb9dac",
   "metadata": {},
   "source": [
    "## The Algebra of Vectors"
   ]
  },
  {
   "cell_type": "code",
   "execution_count": 113,
   "id": "814aaf2f",
   "metadata": {},
   "outputs": [
    {
     "name": "stdout",
     "output_type": "stream",
     "text": [
      "a: [ 1.  3. -2.]\n",
      "b: [2. 0. 4.]\n"
     ]
    }
   ],
   "source": [
    "\n",
    "# Define two vectors:\n",
    "a = np.array([1., 3., -2.])\n",
    "b = np.array([2., 0., 4.])\n",
    "print(\"a:\", a)\n",
    "print(\"b:\", b)"
   ]
  },
  {
   "cell_type": "code",
   "execution_count": 114,
   "id": "6b407edf",
   "metadata": {},
   "outputs": [
    {
     "name": "stdout",
     "output_type": "stream",
     "text": [
      "a + b = [3. 3. 2.]\n",
      "a - b = [-1.  3. -6.]\n",
      "2 * a = [ 2.  6. -4.]\n"
     ]
    }
   ],
   "source": [
    "# Basic ops\n",
    "print(\"a + b =\", a + b) # vector addition\n",
    "print(\"a - b =\", a - b) # vector substraction\n",
    "print(\"2 * a =\", 2 * a) # vector scalar product"
   ]
  },
  {
   "cell_type": "code",
   "execution_count": 115,
   "id": "69f130e9",
   "metadata": {},
   "outputs": [
    {
     "name": "stdout",
     "output_type": "stream",
     "text": [
      "a · b = -6.0\n"
     ]
    }
   ],
   "source": [
    "# Dot / inner product and norm\n",
    "dot_ab = a @ b              # or np.dot(a, b)\n",
    "print(\"a · b =\", dot_ab)"
   ]
  },
  {
   "cell_type": "code",
   "execution_count": 116,
   "id": "c0480d25",
   "metadata": {},
   "outputs": [
    {
     "name": "stdout",
     "output_type": "stream",
     "text": [
      "||a||_2 = 3.7416573867739413\n",
      "||b||_2 = 4.47213595499958\n"
     ]
    }
   ],
   "source": [
    "# Euclidean norm:\n",
    "norm_a = np.linalg.norm(a)  # Euclidean (L2) norm of a\n",
    "norm_b = np.linalg.norm(b)  # Euclidean (L2) norm of b\n",
    "print(\"||a||_2 =\", norm_a)\n",
    "print(\"||b||_2 =\", norm_b)"
   ]
  },
  {
   "cell_type": "code",
   "execution_count": 117,
   "id": "428ec011",
   "metadata": {},
   "outputs": [
    {
     "name": "stdout",
     "output_type": "stream",
     "text": [
      "cos(a, b): -0.35856858280031806\n",
      "a and b have an angle of: 1.9375303858871702 rad or 111.01 deg\n"
     ]
    }
   ],
   "source": [
    "import math \n",
    "\n",
    "def rad_to_deg(x: float, decimals=2) -> float:\n",
    "    if not -math.pi < x < math.pi:\n",
    "        raise ValueError(f\"angle must be in [-π , +π ], but got: {x}\")\n",
    "    if decimals < 0:\n",
    "        raise ValueError(f\"decimals must be positive, but got: {decimals}\")\n",
    "    return round(( x / math.pi ) * 180, decimals)\n",
    "\n",
    "# Dot product identity: ||a|| * || b || * cos(a, b) = a · b, Therefore:\n",
    "cos_a_b = dot_ab / ( norm_a * norm_b )\n",
    "print(\"cos(a, b):\", cos_a_b)\n",
    "\n",
    "# Which means:\n",
    "ang_a_b = math.acos(cos_a_b)\n",
    "print(f\"a and b have an angle of: {ang_a_b} rad or {rad_to_deg(ang_a_b)} deg\") "
   ]
  },
  {
   "cell_type": "code",
   "execution_count": 118,
   "id": "fbcb10ee",
   "metadata": {},
   "outputs": [
    {
     "name": "stdout",
     "output_type": "stream",
     "text": [
      "Absolute Error: 0.0 deg\n",
      "Relative Error: 0.0 %\n"
     ]
    }
   ],
   "source": [
    "# Correct value for previous calculation is 111.012 in deg\n",
    "expected = 111.012 # deg\n",
    "calculated = rad_to_deg(ang_a_b, 3)\n",
    "\n",
    "assert expected == calculated\n",
    "\n",
    "absolute_error = round(abs(expected - calculated), 10)\n",
    "relative_error = round(abs(absolute_error / expected * 100), 10)\n",
    "print(\"Absolute Error:\", absolute_error, \"deg\")\n",
    "print(\"Relative Error:\", relative_error, \"%\")\n",
    "\n",
    "# What happens if we increase the decimals?"
   ]
  },
  {
   "cell_type": "code",
   "execution_count": 119,
   "id": "fff489f7",
   "metadata": {},
   "outputs": [
    {
     "name": "stdout",
     "output_type": "stream",
     "text": [
      "Absolute Error: 0.0003137897 deg\n",
      "Relative Error: 0.0002826621 %\n"
     ]
    }
   ],
   "source": [
    "tol = 1e-3\n",
    "decimals = 10\n",
    "expected = round(rad_to_deg(math.acos(-3 / math.sqrt(70)), decimals), decimals) # correct value\n",
    "calculated = round(rad_to_deg(ang_a_b, 3), decimals)\n",
    "\n",
    "assert (expected - calculated) <= tol # assert with tolerance\n",
    "\n",
    "absolute_error = round(abs(expected - calculated), decimals)\n",
    "relative_error = round(abs(absolute_error / expected * 100), decimals)\n",
    "print(\"Absolute Error:\", absolute_error, \"deg\")\n",
    "print(\"Relative Error:\", relative_error, \"%\")"
   ]
  },
  {
   "cell_type": "code",
   "execution_count": 120,
   "id": "5022ca63",
   "metadata": {},
   "outputs": [
    {
     "name": "stdout",
     "output_type": "stream",
     "text": [
      "unit(a) = [ 1.  3. -2.]/√3.742 = [0.267, 0.802, -0.535]\n",
      "\n",
      "||unit(a)||≈ 1.0003589355826237\n"
     ]
    }
   ],
   "source": [
    "# Unit vector\n",
    "norm_a = np.linalg.norm(a)\n",
    "u = a / (norm_a if norm_a != 0 else 1.0)\n",
    "u = [float(round(i, 3)) for i in u]\n",
    "print(\"unit(a) =\", f\"{a}/√{round(norm_a, 3)} =\", u)\n",
    "print(\"\")\n",
    "print(\"||unit(a)||≈\", np.linalg.norm(u))\n"
   ]
  },
  {
   "cell_type": "markdown",
   "id": "55f9fece",
   "metadata": {},
   "source": [
    "## Creating Matrices in Python\n",
    "\n",
    "- **Matrix:**\n",
    "    - **Mathematics** := rectangular array of numbers or other mathematical objects with elements or entries arranged in rows and columns, usually satisfying certain properties of addition and multiplication. In linear algebra, matrices are used as linear maps (Mathematical functions).\n",
    "    - **Programming** := usually a data structure that stores 2D or ND, in general, arrays. The available operations depends on the used library or the implementation. Speacial note to approximations and precision loss should be taken.\n",
    "\n",
    "More info:\n",
    "\n",
    "- [Matrix (Maths)](https://en.wikipedia.org/wiki/Matrix_(mathematics))\n",
    "- [Linea maps](https://en.wikipedia.org/wiki/Linear_map)\n",
    "- [Matrix (Programming)](https://en.wikipedia.org/wiki/Matrix_(mathematics)#Computational_aspects)"
   ]
  },
  {
   "cell_type": "code",
   "execution_count": 121,
   "id": "198f37ad",
   "metadata": {},
   "outputs": [
    {
     "name": "stdout",
     "output_type": "stream",
     "text": [
      "A:\n",
      " [[ 1.  2.  3.]\n",
      " [ 0. -1.  4.]]\n",
      "shape: (2, 3)\n"
     ]
    }
   ],
   "source": [
    "\n",
    "# Matrices in Numpy\n",
    "A = np.array([[1., 2., 3.],\n",
    "              [0., -1., 4.]])\n",
    "print(\"A:\\n\", A)\n",
    "print(\"shape:\", A.shape)"
   ]
  },
  {
   "cell_type": "code",
   "execution_count": 122,
   "id": "219a20a2",
   "metadata": {},
   "outputs": [
    {
     "name": "stdout",
     "output_type": "stream",
     "text": [
      "\n",
      "Zeros:\n",
      " [[0. 0. 0.]\n",
      " [0. 0. 0.]\n",
      " [0. 0. 0.]]\n",
      "\n",
      "Identity I3:\n",
      " [[1. 0. 0.]\n",
      " [0. 1. 0.]\n",
      " [0. 0. 1.]]\n",
      "\n",
      "Random (seeded):\n",
      " [[ 0.12573022 -0.13210486  0.64042265]\n",
      " [ 0.10490012 -0.53566937  0.36159505]\n",
      " [ 1.30400005  0.94708096 -0.70373524]]\n"
     ]
    }
   ],
   "source": [
    "Z = np.zeros((3, 3))\n",
    "E = np.eye(3)\n",
    "R = np.random.default_rng(0).standard_normal((3, 3))\n",
    "\n",
    "print(\"\\nZeros:\\n\", Z)\n",
    "print(\"\\nIdentity I3:\\n\", E)\n",
    "print(\"\\nRandom (seeded):\\n\", R)"
   ]
  },
  {
   "cell_type": "markdown",
   "id": "b972651a",
   "metadata": {},
   "source": [
    "## Matrix-Vector Operations"
   ]
  },
  {
   "cell_type": "code",
   "execution_count": 123,
   "id": "fafff953",
   "metadata": {},
   "outputs": [
    {
     "name": "stdout",
     "output_type": "stream",
     "text": [
      "A (2, 3):\n",
      "[[1. 2. 3.]\n",
      " [4. 5. 6.]]\n",
      "\n",
      "x (3,):\n",
      "[ 0.5 -1.   2. ]\n",
      "---------------\n",
      "A @ x (2,):\n",
      "[4.5 9. ]\n"
     ]
    }
   ],
   "source": [
    "A = np.array([[1., 2., 3.],\n",
    "              [4., 5., 6.]])\n",
    "x = np.array([0.5, -1.0, 2.0])  # shape (3,)\n",
    "y = A @ x                       # matrix product -> result shape (2,)\n",
    "print(f\"A {A.shape}:\")\n",
    "print(A)\n",
    "print(\"\")\n",
    "print(f\"x {x.shape}:\")\n",
    "print(x)\n",
    "print(\"---------------\")\n",
    "print(f\"A @ x {y.shape}:\")\n",
    "print(y)"
   ]
  },
  {
   "cell_type": "markdown",
   "id": "40c063ce",
   "metadata": {},
   "source": [
    "## Matrix-Vector Compatibility"
   ]
  },
  {
   "cell_type": "code",
   "execution_count": 124,
   "id": "8a7916e2",
   "metadata": {},
   "outputs": [
    {
     "name": "stdout",
     "output_type": "stream",
     "text": [
      "A.shape: (2, 3) B.shape: (3,)\n",
      "A @ B ok -> shape: (2,)\n",
      "A.shape: (2, 3) B.shape: (4,)\n",
      "Compatibility error: matmul: Input operand 1 has a mismatch in its core dimension 0, with gufunc signature (n?,k),(k,m?)->(n?,m?) (size 4 is different from 3)\n"
     ]
    }
   ],
   "source": [
    "# Check matrix compatibility for product\n",
    "def mm_compat(A, B):\n",
    "    print(\"A.shape:\", A.shape, \"B.shape:\", B.shape)\n",
    "    try:\n",
    "        C = A @ B\n",
    "        print(\"A @ B ok -> shape:\", C.shape)\n",
    "    except ValueError as e:\n",
    "        print(\"Compatibility error:\", e)\n",
    "\n",
    "A = np.random.default_rng(1).standard_normal((2, 3))\n",
    "x_ok = np.random.default_rng(2).standard_normal(3)\n",
    "x_bad = np.random.default_rng(3).standard_normal(4)\n",
    "\n",
    "mm_compat(A, x_ok)   # ok\n",
    "mm_compat(A, x_bad)  # error\n"
   ]
  },
  {
   "cell_type": "markdown",
   "id": "0d056f93",
   "metadata": {},
   "source": [
    "## Matrix Multiplication as a Transformation"
   ]
  },
  {
   "cell_type": "code",
   "execution_count": 125,
   "id": "3b4f32e8",
   "metadata": {},
   "outputs": [
    {
     "data": {
      "image/png": "[encoded data removed]",
      "text/plain": [
       "<Figure size 400x400 with 1 Axes>"
      ]
     },
     "metadata": {},
     "output_type": "display_data"
    }
   ],
   "source": [
    "\n",
    "# Rotate points in 2D by theta: Square example\n",
    "theta = np.deg2rad(45)\n",
    "R = np.array([[np.cos(theta), -np.sin(theta)],\n",
    "              [np.sin(theta),  np.cos(theta)]])\n",
    "\n",
    "# Create a square and rotate\n",
    "square = np.array([[0, 0, 1, 1, 0],\n",
    "                   [0, 1, 1, 0, 0]], dtype=float)  # 2x5\n",
    "rot_square = R @ square\n",
    "\n",
    "plt.figure(figsize=(4, 4))\n",
    "plt.plot(square[0], square[1], marker='o', label='original')\n",
    "plt.plot(rot_square[0], rot_square[1], marker='o', label='rotated')\n",
    "plt.axis('equal')\n",
    "plt.legend()\n",
    "plt.title(\"Rotation as linear transformation\")\n",
    "plt.show()\n"
   ]
  },
  {
   "cell_type": "code",
   "execution_count": 126,
   "id": "172fdfe7",
   "metadata": {},
   "outputs": [
    {
     "data": {
      "image/png": "[encoded data removed]",
      "text/plain": [
       "<Figure size 500x500 with 1 Axes>"
      ]
     },
     "metadata": {},
     "output_type": "display_data"
    }
   ],
   "source": [
    "\n",
    "# Rotate points in 2D by theta: Triangle\n",
    "theta = np.deg2rad(180)\n",
    "R = np.array([[np.cos(theta), -np.sin(theta)],\n",
    "              [np.sin(theta),  np.cos(theta)]])\n",
    "\n",
    "# Create a triangle and rotate\n",
    "triangle = np.array([[0, math.sin(math.pi/3), 0, 0],\n",
    "                   [0, math.cos(math.pi/3), 1, 0]], dtype=float)  # 2x4\n",
    "rot_triangle = R @ triangle\n",
    "\n",
    "plt.figure(figsize=(5, 5))\n",
    "plt.plot(triangle[0], triangle[1], marker='o', label='original')\n",
    "plt.plot(rot_triangle[0], rot_triangle[1], marker='o', label='rotated')\n",
    "plt.axis('equal')\n",
    "plt.legend()\n",
    "plt.title(\"Rotation as linear transformation\")\n",
    "plt.show()\n"
   ]
  },
  {
   "cell_type": "markdown",
   "id": "b13cc7a3",
   "metadata": {},
   "source": [
    "## Reflections"
   ]
  },
  {
   "cell_type": "code",
   "execution_count": 127,
   "id": "eb35f285",
   "metadata": {},
   "outputs": [
    {
     "data": {
      "image/png": "[encoded data removed]",
      "text/plain": [
       "<Figure size 400x400 with 1 Axes>"
      ]
     },
     "metadata": {},
     "output_type": "display_data"
    },
    {
     "data": {
      "image/png": "[encoded data removed]",
      "text/plain": [
       "<Figure size 400x400 with 1 Axes>"
      ]
     },
     "metadata": {},
     "output_type": "display_data"
    },
    {
     "data": {
      "image/png": "[encoded data removed]",
      "text/plain": [
       "<Figure size 400x400 with 1 Axes>"
      ]
     },
     "metadata": {},
     "output_type": "display_data"
    }
   ],
   "source": [
    "\n",
    "# Reflection across x-axis: diag(1, -1)\n",
    "Fx = np.diag([1., -1.])\n",
    "# Reflection across y=x: swap matrix\n",
    "Fxy = np.array([[0., 1.],\n",
    "                [1., 0.]])\n",
    "\n",
    "pts = np.array([[0, 1, 2, 2, 0],\n",
    "                [0, 1, 0, 2, 0]], dtype=float)\n",
    "\n",
    "ref_x = Fx @ pts\n",
    "ref_xy = Fxy @ pts\n",
    "\n",
    "plt.figure(figsize=(4, 4))\n",
    "plt.plot(pts[0], pts[1], marker='o', label='original')\n",
    "plt.plot(ref_x[0], ref_x[1], marker='o', label='reflect x-axis')\n",
    "plt.axis('equal')\n",
    "plt.legend()\n",
    "plt.title(\"Reflection across x-axis\")\n",
    "plt.show()\n",
    "\n",
    "plt.figure(figsize=(4, 4))\n",
    "plt.plot(pts[0], pts[1], marker='o', label='original')\n",
    "plt.plot(ref_xy[0], ref_xy[1], marker='o', label='reflect y=x')\n",
    "plt.axis('equal')\n",
    "plt.legend()\n",
    "plt.title(\"Reflection across y = x\")\n",
    "plt.show()\n",
    "\n",
    "# Householder reflection across a line through the origin defined by unit vector u\n",
    "u = np.array([1., 2.])\n",
    "u = u / np.linalg.norm(u)\n",
    "H = np.eye(2) - 2 * np.outer(u, u)  # reflection about the line orthogonal to u\n",
    "ref_house = H @ pts\n",
    "\n",
    "plt.figure(figsize=(4, 4))\n",
    "plt.plot(pts[0], pts[1], marker='o', label='original')\n",
    "plt.plot(ref_house[0], ref_house[1], marker='o', label='Householder reflect')\n",
    "plt.axis('equal')\n",
    "plt.legend()\n",
    "plt.title(\"Householder reflection\")\n",
    "plt.show()\n"
   ]
  },
  {
   "cell_type": "markdown",
   "id": "a5ccf263",
   "metadata": {},
   "source": [
    "## Matrix-Matrix Calculations"
   ]
  },
  {
   "cell_type": "code",
   "execution_count": 128,
   "id": "59ae1bac",
   "metadata": {},
   "outputs": [
    {
     "name": "stdout",
     "output_type": "stream",
     "text": [
      "A @ B =\n",
      " [[ 2.  3.  8.]\n",
      " [21. -1. 13.]\n",
      " [ 5. -1.  3.]]\n",
      "\n",
      "B @ A =\n",
      " [[ 4. 10. 11.]\n",
      " [-1. -1. -2.]\n",
      " [10.  6.  1.]]\n",
      "\n",
      "A.T =\n",
      " [[2. 1. 0.]\n",
      " [1. 3. 1.]\n",
      " [0. 4. 1.]]\n",
      "\n",
      "trace(A) = 6.0\n",
      "det(A)   = -3.000000000000001\n",
      "rank(A)  = 3\n"
     ]
    }
   ],
   "source": [
    "\n",
    "A = np.array([[2., 1., 0.],\n",
    "              [1., 3., 4.],\n",
    "              [0., 1., 1.]])\n",
    "B = np.array([[1., 2., 3.],\n",
    "              [0., -1., 2.],\n",
    "              [5.,  0., 1.]])\n",
    "\n",
    "print(\"A @ B =\\n\", A @ B)\n",
    "print(\"\\nB @ A =\\n\", B @ A)\n",
    "print(\"\\nA.T =\\n\", A.T) # transpose\n",
    "print(\"\")\n",
    "print(\"trace(A) =\", np.trace(A))\n",
    "print(\"det(A)   =\", np.linalg.det(A))\n",
    "print(\"rank(A)  =\", np.linalg.matrix_rank(A))\n"
   ]
  },
  {
   "cell_type": "markdown",
   "id": "e682e6c0",
   "metadata": {},
   "source": [
    "## Matrix Multiplication Compatibility"
   ]
  },
  {
   "cell_type": "code",
   "execution_count": 129,
   "id": "eea7f563",
   "metadata": {},
   "outputs": [
    {
     "name": "stdout",
     "output_type": "stream",
     "text": [
      "(2x3)@(3x4) -> (2, 4)\n",
      "Incompatible shapes: matmul: Input operand 1 has a mismatch in its core dimension 0, with gufunc signature (n?,k),(k,m?)->(n?,m?) (size 5 is different from 3)\n"
     ]
    }
   ],
   "source": [
    "\n",
    "A = np.random.default_rng(0).standard_normal((2, 3))\n",
    "B = np.random.default_rng(1).standard_normal((3, 4))\n",
    "C = np.random.default_rng(2).standard_normal((5, 2))\n",
    "\n",
    "print(\"(2x3)@(3x4) ->\", (A @ B).shape)\n",
    "try:\n",
    "    A @ C  # (2x3)@(5x2) — incompatible\n",
    "except ValueError as e:\n",
    "    print(\"Incompatible shapes:\", e)\n"
   ]
  },
  {
   "cell_type": "markdown",
   "id": "385ad26d",
   "metadata": {},
   "source": [
    "## Matrix Multiplication — Order Matters"
   ]
  },
  {
   "cell_type": "code",
   "execution_count": 130,
   "id": "da79823d",
   "metadata": {},
   "outputs": [
    {
     "name": "stdout",
     "output_type": "stream",
     "text": [
      "P @ Q =\n",
      " [[2. 1.]\n",
      " [1. 0.]]\n",
      "\n",
      "Q @ P =\n",
      " [[0. 1.]\n",
      " [1. 2.]]\n"
     ]
    }
   ],
   "source": [
    "\n",
    "P = np.array([[1., 2.],\n",
    "              [0., 1.]])\n",
    "Q = np.array([[0., 1.],\n",
    "              [1., 0.]])\n",
    "\n",
    "print(\"P @ Q =\\n\", P @ Q)\n",
    "print(\"\\nQ @ P =\\n\", Q @ P)  # not equal to P@Q\n"
   ]
  },
  {
   "cell_type": "markdown",
   "id": "86c40190",
   "metadata": {},
   "source": [
    "## Intro to the Matrix Inverse"
   ]
  },
  {
   "cell_type": "code",
   "execution_count": 131,
   "id": "0eb58b91",
   "metadata": {},
   "outputs": [
    {
     "name": "stdout",
     "output_type": "stream",
     "text": [
      "A:\n",
      " [[4. 7.]\n",
      " [2. 6.]]\n",
      "\n",
      "A^{-1}:\n",
      " [[ 0.6 -0.7]\n",
      " [-0.2  0.4]]\n",
      "\n",
      "A @ A^{-1} ≈ I:\n",
      " [[ 1. -0.]\n",
      " [-0.  1.]]\n",
      "\n",
      "det(S) = 0.0\n",
      "\n",
      "S_pinv:\n",
      " [[0.04 0.08]\n",
      " [0.08 0.16]]\n",
      "\n",
      "S @ S_pinv @ S ≈ S:\n",
      " [[1. 2.]\n",
      " [2. 4.]]\n"
     ]
    }
   ],
   "source": [
    "\n",
    "A = np.array([[4., 7.],\n",
    "              [2., 6.]])\n",
    "A_inv = np.linalg.inv(A)\n",
    "I = A @ A_inv\n",
    "print(\"A:\\n\", A)\n",
    "print(\"\\nA^{-1}:\\n\", A_inv)\n",
    "print(\"\\nA @ A^{-1} ≈ I:\\n\", I)\n",
    "\n",
    "# Singular example (non-invertible)\n",
    "S = np.array([[1., 2.],\n",
    "              [2., 4.]])\n",
    "print(\"\\ndet(S) =\", np.linalg.det(S))  # 0 -> singular\n",
    "# Using pseudo-inverse for singular/ill-conditioned matrices\n",
    "S_pinv = np.linalg.pinv(S)\n",
    "print(\"\\nS_pinv:\\n\", S_pinv)\n",
    "print(\"\\nS @ S_pinv @ S ≈ S:\\n\", S @ S_pinv @ S)\n"
   ]
  },
  {
   "cell_type": "markdown",
   "id": "8fd0b1ed",
   "metadata": {},
   "source": [
    "\n",
    "## Mini Exercises (optional)\n",
    "\n",
    "1. Create a random 5×5 matrix `M`. Compute `M.T @ M`. What properties does this product have?\n",
    "2. Implement a function `proj_u(v, u)` that projects vector `v` onto `u`.\n",
    "3. Build a 2D shear matrix and apply it to a rectangle. Plot before/after.\n",
    "4. Generate two non-commuting 3×3 matrices `A` and `B` and numerically verify `A@B != B@A`.\n",
    "5. For a near-singular matrix (determinant close to 0), compare `np.linalg.inv` vs `np.linalg.pinv` on a least-squares task.\n"
   ]
  }
 ],
 "metadata": {
  "kernelspec": {
   "display_name": "linear-algebra-with-python",
   "language": "python",
   "name": "python3"
  },
  "language_info": {
   "codemirror_mode": {
    "name": "ipython",
    "version": 3
   },
   "file_extension": ".py",
   "mimetype": "text/x-python",
   "name": "python",
   "nbconvert_exporter": "python",
   "pygments_lexer": "ipython3",
   "version": "3.13.7"
  }
 },
 "nbformat": 4,
 "nbformat_minor": 5
}
