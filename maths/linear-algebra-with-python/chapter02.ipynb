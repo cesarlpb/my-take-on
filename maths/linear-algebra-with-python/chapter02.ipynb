{
 "cells": [
  {
   "cell_type": "markdown",
   "id": "362b456e",
   "metadata": {},
   "source": [
    "\n",
    "# Linear Algebra with Python — Chapter 2: Matrix‑Vector Equations\n",
    "\n",
    "**Focus:** practical NumPy/`pandas` solutions to `A x = b`, minimal math exposition, toy WNBA case study.  \n",
    "**Libraries:** `numpy`, `pandas`, `matplotlib`.\n"
   ]
  },
  {
   "cell_type": "code",
   "execution_count": 1,
   "id": "a3bafd42",
   "metadata": {},
   "outputs": [
    {
     "name": "stdout",
     "output_type": "stream",
     "text": [
      "Matplotlib: 3.10.6\n",
      "NumPy: 2.3.3\n",
      "Pandas: 2.3.3\n"
     ]
    }
   ],
   "source": [
    "\n",
    "import numpy as np\n",
    "import pandas as pd\n",
    "import matplotlib\n",
    "import matplotlib.pyplot as plt\n",
    "\n",
    "print(\"Matplotlib:\", matplotlib.__version__)\n",
    "np.set_printoptions(suppress=True, linewidth=140)\n",
    "print(\"NumPy:\", np.__version__)\n",
    "print(\"Pandas:\", pd.__version__)\n"
   ]
  },
  {
   "cell_type": "markdown",
   "id": "1bb5f92d",
   "metadata": {},
   "source": [
    "\n",
    "## Motivation for Solving Matrix‑Vector Equations\n",
    "\n",
    "Many ML tasks boil down to **solving** (or approximately solving) `A x = b`:\n",
    "- Least squares (linear regression): `A` = features, `x` = weights, `b` = targets.\n",
    "- Physics/graphics/optim: constraints as linear equations.\n",
    "- Sports ratings: infer team strengths from game outcomes.\n"
   ]
  },
  {
   "cell_type": "markdown",
   "id": "67d68cb7",
   "metadata": {},
   "source": [
    "## The Meaning of $A x = b$\n",
    "\n",
    "### From a Mathematics Perspective\n",
    "\n",
    "$A x = b$ is a **system of linear equations**: the vector $b$ should be expressible as a **linear combination of the columns of $A$**, with weights given by $x$.  \n",
    "\n",
    "- If $A$ is square and invertible → one unique solution.  \n",
    "- If $A$ has more equations than unknowns → usually no exact solution, so we approximate (least squares).  \n",
    "- If $A$ has fewer equations → infinitely many solutions.\n",
    "\n",
    "- Geometrically: $x$ are the coordinates of $b$ in the space spanned by $A$'s columns.\n",
    "\n",
    "### From a Programming Perspective\n",
    "\n",
    "Programatically, we try to find the vector, $x$, which satisfies the previous equation. There are algorithms to converge to a solution, if one exists (Jacobi method, Gauss-Seidel, etc.) In NumPy, `A @ x` computes the matrix-vector product. Therefore, solving numerically with Numpy we have these scenarios:\n",
    "\n",
    "- `np.linalg.solve(A, b)` → exact solution (square, full rank).\n",
    "- `np.linalg.lstsq(A, b)` → least squares (overdetermined).\n",
    "- `np.linalg.pinv(A) @ b` → minimum-norm solution (underdetermined)."
   ]
  },
  {
   "cell_type": "code",
   "execution_count": 3,
   "id": "d96a2f9d",
   "metadata": {},
   "outputs": [
    {
     "name": "stdout",
     "output_type": "stream",
     "text": [
      "A:\n",
      " [[1. 2.]\n",
      " [3. 1.]\n",
      " [0. 1.]]\n",
      "b: [5. 7. 1.]\n",
      "\n",
      "x_hat (least-squares): [1.88571429 1.42857143]\n",
      "residuals: [0.25714286]\n",
      "rank: 2\n",
      "singular values: [3.65857415 1.6170452 ]\n",
      "\n",
      "||r||_2 = 0.5070925528371099\n"
     ]
    }
   ],
   "source": [
    "\n",
    "# Geometric view: columns of A combine (with coefficients x) to reach b\n",
    "A = np.array([[1., 2.],\n",
    "              [3., 1.],\n",
    "              [0., 1.]])\n",
    "b = np.array([5., 7., 1.])\n",
    "\n",
    "# Solve least squares (overdetermined: 3 eq, 2 unk)\n",
    "x_hat, residuals, rank, s = np.linalg.lstsq(A, b, rcond=None)\n",
    "print(\"A:\\n\", A)\n",
    "print(\"b:\", b)\n",
    "\n",
    "print(\"\")\n",
    "print(\"x_hat (least-squares):\", x_hat)\n",
    "print(\"residuals:\", residuals)\n",
    "print(\"rank:\", rank)\n",
    "print(\"singular values:\", s)\n",
    "\n",
    "# Check reconstruction and residual vector r = b - A x_hat\n",
    "r = b - A @ x_hat\n",
    "print(\"\")\n",
    "print(\"||r||_2 =\", np.linalg.norm(r))\n"
   ]
  },
  {
   "cell_type": "code",
   "execution_count": 18,
   "id": "a8167fa1",
   "metadata": {},
   "outputs": [
    {
     "name": "stdout",
     "output_type": "stream",
     "text": [
      "b:          [5. 7. 1.]\n",
      "computed b: [4.74285714 7.08571429 1.42857143]\n",
      "difference: [-0.25714286  0.08571429  0.42857143]\n",
      "||diff||_2: 0.5070925528371099\n",
      "% diff:     ['-5.14 %', '1.22 %', '42.86 %']\n"
     ]
    }
   ],
   "source": [
    "# What does Ax = b mean, again?\n",
    "computed_b = A @ x_hat\n",
    "diff = computed_b - b\n",
    "print(\"b:         \", b)\n",
    "print(\"computed b:\", computed_b)\n",
    "print(\"difference:\", diff)\n",
    "print(\"||diff||_2:\", np.linalg.norm(diff))\n",
    "print(\"% diff:    \", [f\"{round(float((diff[i] / b[i]) * 100), 2)} %\" for i in range(b.size)])"
   ]
  },
  {
   "cell_type": "code",
   "execution_count": 20,
   "id": "6334ce51",
   "metadata": {},
   "outputs": [
    {
     "name": "stdout",
     "output_type": "stream",
     "text": [
      "||r||/||b|| = 0.0586\n",
      "RMSE        = 0.2928\n",
      "MAE         = 0.2571\n"
     ]
    }
   ],
   "source": [
    "# in previous cell, third component has very high relative error\n",
    "# but overall component-wise errors are low:\n",
    "r = b - computed_b\n",
    "rel_residual = np.linalg.norm(r) / np.linalg.norm(b)\n",
    "rmse = np.sqrt(np.mean(r**2))\n",
    "mae = np.mean(np.abs(r))\n",
    "\n",
    "print(f\"||r||/||b|| = {rel_residual:.4f}\")\n",
    "print(f\"RMSE        = {rmse:.4f}\")\n",
    "print(f\"MAE         = {mae:.4f}\")\n"
   ]
  },
  {
   "cell_type": "markdown",
   "id": "88f6a79f",
   "metadata": {},
   "source": [
    "### System Conditioning \n",
    "\n",
    "$cond(A) = ||A||_2 * ​||A−1||_2​$\n",
    "\n",
    "- If cond(A) ≈ 1: the system is well-conditioned — small errors in 𝐴 or 𝑏 cause small errors in 𝑥.\n",
    "- If cond(A) is large (say 10^6 or higher): the system is ill-conditioned — tiny perturbations in data may cause huge changes in the solution.\n",
    "- If cond(A) = ∞: A is singular (not invertible)."
   ]
  },
  {
   "cell_type": "code",
   "execution_count": null,
   "id": "557be367",
   "metadata": {},
   "outputs": [
    {
     "name": "stdout",
     "output_type": "stream",
     "text": [
      "cond(A) = 2.262505797398426\n"
     ]
    }
   ],
   "source": [
    "condA = np.linalg.cond(A)\n",
    "print(\"cond(A) =\", condA)  # large -> sensitive to noise/scaling"
   ]
  },
  {
   "cell_type": "markdown",
   "id": "a2f79003",
   "metadata": {},
   "source": [
    "## Exploring WNBA Data (toy case study)"
   ]
  },
  {
   "cell_type": "markdown",
   "id": "7feea806",
   "metadata": {},
   "source": [
    "\n",
    "We'll build a **toy** 2017‑style WNBA dataset: teams, games, home/away scores.  \n",
    "We'll then compute **Massey ratings**, a classic least‑squares method.\n"
   ]
  },
  {
   "cell_type": "code",
   "execution_count": 26,
   "id": "88a8d0a1",
   "metadata": {},
   "outputs": [
    {
     "data": {
      "text/html": [
       "<div>\n",
       "<style scoped>\n",
       "    .dataframe tbody tr th:only-of-type {\n",
       "        vertical-align: middle;\n",
       "    }\n",
       "\n",
       "    .dataframe tbody tr th {\n",
       "        vertical-align: top;\n",
       "    }\n",
       "\n",
       "    .dataframe thead th {\n",
       "        text-align: right;\n",
       "    }\n",
       "</style>\n",
       "<table border=\"1\" class=\"dataframe\">\n",
       "  <thead>\n",
       "    <tr style=\"text-align: right;\">\n",
       "      <th></th>\n",
       "      <th>home</th>\n",
       "      <th>away</th>\n",
       "      <th>home_pts</th>\n",
       "      <th>away_pts</th>\n",
       "      <th>diff</th>\n",
       "    </tr>\n",
       "  </thead>\n",
       "  <tbody>\n",
       "    <tr>\n",
       "      <th>0</th>\n",
       "      <td>LVA</td>\n",
       "      <td>MIN</td>\n",
       "      <td>80</td>\n",
       "      <td>75</td>\n",
       "      <td>5</td>\n",
       "    </tr>\n",
       "    <tr>\n",
       "      <th>1</th>\n",
       "      <td>SEA</td>\n",
       "      <td>LAL</td>\n",
       "      <td>70</td>\n",
       "      <td>85</td>\n",
       "      <td>-15</td>\n",
       "    </tr>\n",
       "    <tr>\n",
       "      <th>2</th>\n",
       "      <td>MIN</td>\n",
       "      <td>SEA</td>\n",
       "      <td>92</td>\n",
       "      <td>88</td>\n",
       "      <td>4</td>\n",
       "    </tr>\n",
       "    <tr>\n",
       "      <th>3</th>\n",
       "      <td>LAL</td>\n",
       "      <td>LVA</td>\n",
       "      <td>77</td>\n",
       "      <td>82</td>\n",
       "      <td>-5</td>\n",
       "    </tr>\n",
       "    <tr>\n",
       "      <th>4</th>\n",
       "      <td>SEA</td>\n",
       "      <td>LVA</td>\n",
       "      <td>79</td>\n",
       "      <td>81</td>\n",
       "      <td>-2</td>\n",
       "    </tr>\n",
       "    <tr>\n",
       "      <th>5</th>\n",
       "      <td>MIN</td>\n",
       "      <td>LAL</td>\n",
       "      <td>90</td>\n",
       "      <td>70</td>\n",
       "      <td>20</td>\n",
       "    </tr>\n",
       "    <tr>\n",
       "      <th>6</th>\n",
       "      <td>LAL</td>\n",
       "      <td>SEA</td>\n",
       "      <td>88</td>\n",
       "      <td>83</td>\n",
       "      <td>5</td>\n",
       "    </tr>\n",
       "    <tr>\n",
       "      <th>7</th>\n",
       "      <td>MIN</td>\n",
       "      <td>LVA</td>\n",
       "      <td>84</td>\n",
       "      <td>86</td>\n",
       "      <td>-2</td>\n",
       "    </tr>\n",
       "  </tbody>\n",
       "</table>\n",
       "</div>"
      ],
      "text/plain": [
       "  home away  home_pts  away_pts  diff\n",
       "0  LVA  MIN        80        75     5\n",
       "1  SEA  LAL        70        85   -15\n",
       "2  MIN  SEA        92        88     4\n",
       "3  LAL  LVA        77        82    -5\n",
       "4  SEA  LVA        79        81    -2\n",
       "5  MIN  LAL        90        70    20\n",
       "6  LAL  SEA        88        83     5\n",
       "7  MIN  LVA        84        86    -2"
      ]
     },
     "execution_count": 26,
     "metadata": {},
     "output_type": "execute_result"
    }
   ],
   "source": [
    "\n",
    "teams = [\"LVA\", \"MIN\", \"SEA\", \"LAL\"]  # toy subset of teams\n",
    "games = pd.DataFrame([\n",
    "    (\"LVA\", \"MIN\", 80, 75),\n",
    "    (\"SEA\", \"LAL\", 70, 85),\n",
    "    (\"MIN\", \"SEA\", 92, 88),\n",
    "    (\"LAL\", \"LVA\", 77, 82),\n",
    "    (\"SEA\", \"LVA\", 79, 81),\n",
    "    (\"MIN\", \"LAL\", 90, 70),\n",
    "    (\"LAL\", \"SEA\", 88, 83),\n",
    "    (\"MIN\", \"LVA\", 84, 86),\n",
    "], columns=[\"home\",\"away\",\"home_pts\",\"away_pts\"])\n",
    "\n",
    "games[\"diff\"] = games[\"home_pts\"] - games[\"away_pts\"]\n",
    "games\n"
   ]
  },
  {
   "cell_type": "markdown",
   "id": "896c3fd7",
   "metadata": {},
   "source": [
    "## Understanding the Massey Matrix"
   ]
  },
  {
   "cell_type": "code",
   "execution_count": null,
   "id": "9a5631ef",
   "metadata": {},
   "outputs": [],
   "source": [
    "\n",
    "team_index = {t:i for i,t in enumerate(teams)}\n",
    "n_teams = len(teams)\n",
    "n_games = len(games)\n",
    "\n",
    "C = np.zeros((n_games, n_teams))\n",
    "d = games[\"diff\"].to_numpy(dtype=float)\n",
    "\n",
    "for k,(h,a) in enumerate(zip(games[\"home\"], games[\"away\"])):\n",
    "    C[k, team_index[h]] =  1.0\n",
    "    C[k, team_index[a]] = -1.0\n",
    "\n",
    "M = C.T @ C\n",
    "b_vec = C.T @ d\n",
    "\n",
    "print(\"Teams:\", teams)\n",
    "print(\"\\nC (first 5 rows):\\n\", C[:5])\n",
    "print(\"\\nM = C^T C:\\n\", M)\n",
    "print(\"\\nRight-hand side b = C^T d:\\n\", b_vec)\n",
    "print(\"\\nrank(M):\", np.linalg.matrix_rank(M))\n"
   ]
  },
  {
   "cell_type": "markdown",
   "id": "746287c8",
   "metadata": {},
   "source": [
    "## Why is a Matrix Not Invertible?"
   ]
  },
  {
   "cell_type": "markdown",
   "id": "70387aaa",
   "metadata": {},
   "source": [
    "\n",
    "Typical reasons:\n",
    "- Duplicate/linearly dependent rows or columns (rank deficiency).\n",
    "- Not square.\n",
    "- Determinant = 0 (singular).\n",
    "\n",
    "Massey’s `M` is singular because adding a constant to all ratings does not change differences.  \n",
    "Fix: replace the last equation with a **sum‑to‑zero** constraint: `sum(r_i) = 0`.\n"
   ]
  },
  {
   "cell_type": "markdown",
   "id": "5e2d9b5b",
   "metadata": {},
   "source": [
    "## Understanding a Linear System's Three Outcomes"
   ]
  },
  {
   "cell_type": "code",
   "execution_count": null,
   "id": "83ff815e",
   "metadata": {},
   "outputs": [],
   "source": [
    "\n",
    "A_over = np.random.default_rng(0).standard_normal((5, 3))\n",
    "b_over = np.random.default_rng(1).standard_normal(5)\n",
    "x_over, *_ = np.linalg.lstsq(A_over, b_over, rcond=None)\n",
    "\n",
    "A_exact = np.array([[2., 1.],[1., 1.]])\n",
    "b_exact = np.array([4., 3.])\n",
    "x_exact = np.linalg.solve(A_exact, b_exact)\n",
    "\n",
    "A_under = np.random.default_rng(2).standard_normal((2, 4))\n",
    "b_under = np.random.default_rng(3).standard_normal(2)\n",
    "x_under = np.linalg.pinv(A_under) @ b_under\n",
    "\n",
    "print(\"Overdetermined x_hat:\", x_over)\n",
    "print(\"Exactly determined x:\", x_exact)\n",
    "print(\"Underdetermined min-norm x:\", x_under)\n"
   ]
  },
  {
   "cell_type": "markdown",
   "id": "3f9b699f",
   "metadata": {},
   "source": [
    "## Understanding the Massey Matrix (adjusted)"
   ]
  },
  {
   "cell_type": "code",
   "execution_count": null,
   "id": "d163a6e5",
   "metadata": {},
   "outputs": [],
   "source": [
    "\n",
    "M_adj = M.copy()\n",
    "b_adj = b_vec.copy()\n",
    "\n",
    "M_adj[-1, :] = 1.0  # sum-to-zero constraint\n",
    "b_adj[-1] = 0.0\n",
    "\n",
    "ratings = np.linalg.solve(M_adj, b_adj)\n",
    "ratings_table = pd.DataFrame({\"team\": teams, \"rating\": ratings}).sort_values(\"rating\", ascending=False)\n",
    "ratings_table\n"
   ]
  },
  {
   "cell_type": "markdown",
   "id": "7a47013b",
   "metadata": {},
   "source": [
    "## Inverting the Massey Matrix (demo)"
   ]
  },
  {
   "cell_type": "code",
   "execution_count": null,
   "id": "25ae491a",
   "metadata": {},
   "outputs": [],
   "source": [
    "\n",
    "M_inv_demo = np.linalg.inv(M_adj)\n",
    "ratings_via_inv = M_inv_demo @ b_adj\n",
    "np.allclose(ratings, ratings_via_inv)\n"
   ]
  },
  {
   "cell_type": "markdown",
   "id": "1ed1d68a",
   "metadata": {},
   "source": [
    "## Solving Matrix‑Vector Equations (practice)"
   ]
  },
  {
   "cell_type": "code",
   "execution_count": null,
   "id": "3c35a851",
   "metadata": {},
   "outputs": [],
   "source": [
    "\n",
    "rng = np.random.default_rng(42)\n",
    "A = rng.standard_normal((100, 3))\n",
    "true_x = np.array([2.0, -1.0, 0.5])\n",
    "b = A @ true_x + 0.1 * rng.standard_normal(100)\n",
    "\n",
    "x_ls, *_ = np.linalg.lstsq(A, b, rcond=None)\n",
    "\n",
    "lam = 1e-1\n",
    "x_ridge = np.linalg.solve(A.T @ A + lam * np.eye(A.shape[1]), A.T @ b)\n",
    "\n",
    "print(\"Least-squares x_hat:\", x_ls)\n",
    "print(\"Ridge x_hat:\", x_ridge)\n"
   ]
  },
  {
   "cell_type": "markdown",
   "id": "f6c46b0e",
   "metadata": {},
   "source": [
    "## An Analogy with Regular Algebra"
   ]
  },
  {
   "cell_type": "code",
   "execution_count": null,
   "id": "f2df42ce",
   "metadata": {},
   "outputs": [],
   "source": [
    "\n",
    "a = 3.0\n",
    "b_scalar = 12.0\n",
    "x_scalar = b_scalar / a\n",
    "\n",
    "A = np.array([[3., 1.],\n",
    "              [0., 2.]])\n",
    "b_vec = np.array([12., 6.])\n",
    "x_vec = np.linalg.solve(A, b_vec)\n",
    "\n",
    "print(\"Scalar:\", x_scalar)\n",
    "print(\"Vector:\", x_vec)\n"
   ]
  },
  {
   "cell_type": "markdown",
   "id": "9a561ed0",
   "metadata": {},
   "source": [
    "## 2017 WNBA Ratings! (toy) & Who Was the Champion?"
   ]
  },
  {
   "cell_type": "code",
   "execution_count": null,
   "id": "7bf7d21c",
   "metadata": {},
   "outputs": [],
   "source": [
    "\n",
    "ratings_table.reset_index(drop=True, inplace=True)\n",
    "ratings_table\n"
   ]
  },
  {
   "cell_type": "code",
   "execution_count": null,
   "id": "a269e7d9",
   "metadata": {},
   "outputs": [],
   "source": [
    "\n",
    "champ = ratings_table.iloc[0]\n",
    "print(\"Champion (toy):\", champ[\"team\"], \"rating:\", float(champ[\"rating\"]))\n"
   ]
  },
  {
   "cell_type": "markdown",
   "id": "33f6835e",
   "metadata": {},
   "source": [
    "## Other Considerations for Matrix‑Vector Equations"
   ]
  },
  {
   "cell_type": "markdown",
   "id": "a50b1f61",
   "metadata": {},
   "source": [
    "\n",
    "- **Conditioning:** large condition numbers → unstable solutions. Consider scaling and regularization.  \n",
    "- **Outliers:** robust losses (not covered here) instead of pure least squares.  \n",
    "- **Constraints:** add equations (like sum‑to‑zero) or use optimization with constraints.\n"
   ]
  },
  {
   "cell_type": "markdown",
   "id": "de16842d",
   "metadata": {},
   "source": [
    "## Other Methods for Matrix‑Vector Equations"
   ]
  },
  {
   "cell_type": "markdown",
   "id": "f0ebde3c",
   "metadata": {},
   "source": [
    "\n",
    "- **QR factorization** (behind `lstsq`)  \n",
    "- **SVD** (behind `pinv`)  \n",
    "- **Iterative solvers** for large sparse systems (CG, GMRES) — not demoed here.\n"
   ]
  },
  {
   "cell_type": "markdown",
   "id": "63ec15c9",
   "metadata": {},
   "source": [
    "## Alternatives to the Regular Matrix Inverse"
   ]
  },
  {
   "cell_type": "code",
   "execution_count": null,
   "id": "f678a71e",
   "metadata": {},
   "outputs": [],
   "source": [
    "\n",
    "rng = np.random.default_rng(0)\n",
    "A = rng.standard_normal((5,5))\n",
    "b = rng.standard_normal(5)\n",
    "\n",
    "x_solve = np.linalg.solve(A, b)\n",
    "x_inv = np.linalg.inv(A) @ b\n",
    "print(\"||x_solve - x_inv||:\", np.linalg.norm(x_solve - x_inv))\n",
    "\n",
    "B = np.array([[1., 2., 3.],\n",
    "              [2., 4., 6.],\n",
    "              [1., 0., 1.]])\n",
    "y = np.array([1., 2., 0.])\n",
    "x_pinv = np.linalg.pinv(B) @ y\n",
    "print(\"rank(B):\", np.linalg.matrix_rank(B))\n",
    "print(\"pinv solution:\", x_pinv)\n",
    "print(\"residual norm:\", np.linalg.norm(B @ x_pinv - y))\n"
   ]
  },
  {
   "cell_type": "markdown",
   "id": "e85b94f3",
   "metadata": {},
   "source": [
    "## Visual: Residuals Histogram (from LS example)"
   ]
  },
  {
   "cell_type": "code",
   "execution_count": null,
   "id": "2a580139",
   "metadata": {},
   "outputs": [],
   "source": [
    "\n",
    "rng = np.random.default_rng(42)\n",
    "A = rng.standard_normal((100, 3))\n",
    "true_x = np.array([2.0, -1.0, 0.5])\n",
    "b = A @ true_x + 0.1 * rng.standard_normal(100)\n",
    "x_ls, *_ = np.linalg.lstsq(A, b, rcond=None)\n",
    "res = b - A @ x_ls\n",
    "\n",
    "plt.figure(figsize=(5,3))\n",
    "plt.hist(res, bins=15)\n",
    "plt.title(\"Residuals (least squares)\")\n",
    "plt.xlabel(\"residual\")\n",
    "plt.ylabel(\"count\")\n",
    "plt.show()\n"
   ]
  }
 ],
 "metadata": {
  "kernelspec": {
   "display_name": "linear-algebra-with-python",
   "language": "python",
   "name": "python3"
  },
  "language_info": {
   "codemirror_mode": {
    "name": "ipython",
    "version": 3
   },
   "file_extension": ".py",
   "mimetype": "text/x-python",
   "name": "python",
   "nbconvert_exporter": "python",
   "pygments_lexer": "ipython3",
   "version": "3.13.7"
  }
 },
 "nbformat": 4,
 "nbformat_minor": 5
}
